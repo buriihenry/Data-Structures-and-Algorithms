{
  "nbformat": 4,
  "nbformat_minor": 0,
  "metadata": {
    "colab": {
      "provenance": [],
      "include_colab_link": true
    },
    "kernelspec": {
      "name": "python3",
      "display_name": "Python 3"
    },
    "language_info": {
      "name": "python"
    }
  },
  "cells": [
    {
      "cell_type": "markdown",
      "metadata": {
        "id": "view-in-github",
        "colab_type": "text"
      },
      "source": [
        "<a href=\"https://colab.research.google.com/github/buriihenry/Data-Structures-and-Algorithms/blob/master/Arrays_and_Strings_Data_Structures_and_Algorithms.ipynb\" target=\"_parent\"><img src=\"https://colab.research.google.com/assets/colab-badge.svg\" alt=\"Open In Colab\"/></a>"
      ]
    },
    {
      "cell_type": "markdown",
      "source": [
        "**Arrays**: Arrays are a collection of elements, typically of the same data type, stored in contiguous memory locations. Arrays are one of the most fundamental and widely used data structures because they provide an efficient way to store and access data.\n",
        "\n",
        "*Key Characteristics of Arrays:*\n",
        "1. Fixed Size\n",
        "2. Indexed Access\n",
        "3. Homogeneous Data\n",
        "4. Contiguous Memory Allocation\n",
        "\n",
        "**Operations on Arrays and Time Complexity**\n",
        "\n",
        "* Append = O(1)\n",
        "* Pop = O(1)\n",
        "* Insertion = O(n)\n",
        "* Deletion = O(n)\n",
        "* Modify = O(n)\n",
        "* Access = O(n)\n",
        "\n",
        "*Advantages of Arrays:*\n",
        "1. Fast Access: Direct access to any element using its index.\n",
        "2. Memory Efficiency: Memory allocation is contiguous and straightforward.\n",
        "3. Simple Structure: Easy to understand and use.\n",
        "\n",
        "*Disadvantages of Arrays:*\n",
        "1. Fixed Size: Cannot grow or shrink dynamically (in contrast to data structures like linked lists).\n",
        "2. Costly Insertion/Deletion: Operations like insertion and deletion (not at the end) require shifting elements.\n",
        "\n",
        "*Applications of Arrays:*\n",
        "\n",
        "1. Data Storage:\n",
        "1. Matrix Representation:\n",
        "2. Sorting and Searching Algorithms: (e.g., quicksort, mergesort) and searching algorithms (e.g., binary search).\n",
        "3. Buffers and Lookup Tables:\n",
        "Widely used in programming for temporary storage and fast lookup operations.\n"
      ],
      "metadata": {
        "id": "2kpUNa2TnSTC"
      }
    },
    {
      "cell_type": "code",
      "source": [
        "# Let's have an array with 5 elements\n",
        "\n",
        "A = [1,2,3,4,5]\n",
        "\n",
        "print(A)"
      ],
      "metadata": {
        "colab": {
          "base_uri": "https://localhost:8080/"
        },
        "id": "Yxt8XdZexvze",
        "outputId": "b02e79e1-f21a-4203-cc68-c14c3e3f6bed"
      },
      "execution_count": null,
      "outputs": [
        {
          "output_type": "stream",
          "name": "stdout",
          "text": [
            "[1, 2, 3, 4, 5]\n"
          ]
        }
      ]
    },
    {
      "cell_type": "code",
      "source": [
        "# Array Operations\n",
        "# Append - Insert an element at the end of the array- Time complexity is - O(1)\n",
        "\n",
        "A.append(6)\n",
        "\n",
        "print (A)\n"
      ],
      "metadata": {
        "colab": {
          "base_uri": "https://localhost:8080/"
        },
        "id": "_aFeffuqyHWv",
        "outputId": "5c2d9aa7-2999-48e1-d07f-e1e53709ef4a"
      },
      "execution_count": null,
      "outputs": [
        {
          "output_type": "stream",
          "name": "stdout",
          "text": [
            "[1, 2, 3, 4, 5, 6]\n"
          ]
        }
      ]
    },
    {
      "cell_type": "code",
      "source": [
        "# Pop - Delete an element at the end of the array- Time complexity is - O(1)\n",
        "A.pop()\n",
        "\n",
        "print(A)"
      ],
      "metadata": {
        "colab": {
          "base_uri": "https://localhost:8080/"
        },
        "id": "Z7CjXMbAyikM",
        "outputId": "2efb531d-9b12-4235-9af0-e177e339e23a"
      },
      "execution_count": null,
      "outputs": [
        {
          "output_type": "stream",
          "name": "stdout",
          "text": [
            "[1, 2, 3, 4, 5]\n"
          ]
        }
      ]
    },
    {
      "cell_type": "code",
      "source": [
        "# Insert - Anywhere in the array(not at the end) -  Time complexity is - O(n)\n",
        "\n",
        "A.insert(2,7) # insert 7 at index 2\n",
        "\n",
        "print(A)"
      ],
      "metadata": {
        "colab": {
          "base_uri": "https://localhost:8080/"
        },
        "id": "ZoAMKi9Oyxkp",
        "outputId": "7d1ec557-8121-4a97-f7c9-92a588d0d03d"
      },
      "execution_count": null,
      "outputs": [
        {
          "output_type": "stream",
          "name": "stdout",
          "text": [
            "[1, 2, 7, 3, 4, 5]\n"
          ]
        }
      ]
    },
    {
      "cell_type": "code",
      "source": [
        "#Modify an element - O(1)\n",
        "\n",
        "A[0] = 8\n",
        "\n",
        "print(A)"
      ],
      "metadata": {
        "colab": {
          "base_uri": "https://localhost:8080/"
        },
        "id": "if_xqgEozMST",
        "outputId": "ac446d39-34d1-4307-88ad-76a14427fd03"
      },
      "execution_count": null,
      "outputs": [
        {
          "output_type": "stream",
          "name": "stdout",
          "text": [
            "[8, 2, 7, 3, 4, 5]\n"
          ]
        }
      ]
    },
    {
      "cell_type": "code",
      "source": [
        "#Accessing an element - O(1)\n",
        "\n",
        "print(A[2])"
      ],
      "metadata": {
        "colab": {
          "base_uri": "https://localhost:8080/"
        },
        "id": "H7jj3uEizqJB",
        "outputId": "74cff5fd-c35a-45ba-a86f-6c0a1bab4672"
      },
      "execution_count": null,
      "outputs": [
        {
          "output_type": "stream",
          "name": "stdout",
          "text": [
            "7\n"
          ]
        }
      ]
    },
    {
      "cell_type": "code",
      "source": [
        "#To check if an element exists O(n)\n",
        "if 3 in A:\n",
        "  print(True)"
      ],
      "metadata": {
        "colab": {
          "base_uri": "https://localhost:8080/"
        },
        "id": "29KZe3Uhz2JT",
        "outputId": "4a6e979d-3bcb-47b3-e3e4-36e15aaa3073"
      },
      "execution_count": null,
      "outputs": [
        {
          "output_type": "stream",
          "name": "stdout",
          "text": [
            "True\n"
          ]
        }
      ]
    },
    {
      "cell_type": "code",
      "source": [],
      "metadata": {
        "id": "taAWPCOg0FZI"
      },
      "execution_count": null,
      "outputs": []
    },
    {
      "cell_type": "markdown",
      "source": [
        "**Strings**: Strings are a specialized type of array that represents a sequence of characters. Strings are widely used for storing and manipulating textual data in programming and are fundamental to many applications, such as data processing, search, and communication systems."
      ],
      "metadata": {
        "id": "Qa_PuRLl0ZgW"
      }
    },
    {
      "cell_type": "code",
      "source": [
        "# Append - at the end of the string - Time complexity = O(n)\n",
        "\n",
        "s = 'hello'\n",
        "\n",
        "b = s + 'z' # to add Z to the string hello\n",
        "\n",
        "print(b)"
      ],
      "metadata": {
        "colab": {
          "base_uri": "https://localhost:8080/"
        },
        "id": "H-WysGgN0ezq",
        "outputId": "1ab2d43f-bbad-4c18-b6fa-6c80ed6d3186"
      },
      "execution_count": null,
      "outputs": [
        {
          "output_type": "stream",
          "name": "stdout",
          "text": [
            "helloz\n"
          ]
        }
      ]
    },
    {
      "cell_type": "code",
      "source": [
        "# Check if an element/something is in a string - Time complexity = O(n)\n",
        "\n",
        "if 'l' in b:\n",
        "  print(True)"
      ],
      "metadata": {
        "colab": {
          "base_uri": "https://localhost:8080/"
        },
        "id": "iUrKflpj010l",
        "outputId": "567eadda-7818-4d2e-cc71-b204bf8add71"
      },
      "execution_count": null,
      "outputs": [
        {
          "output_type": "stream",
          "name": "stdout",
          "text": [
            "True\n"
          ]
        }
      ]
    },
    {
      "cell_type": "code",
      "source": [
        "#Accessing elements of a string:\n",
        "print(b[1])"
      ],
      "metadata": {
        "colab": {
          "base_uri": "https://localhost:8080/"
        },
        "id": "0E1eRg7h1geS",
        "outputId": "05989c9b-6b4c-42a8-afa0-58e0efd84af9"
      },
      "execution_count": null,
      "outputs": [
        {
          "output_type": "stream",
          "name": "stdout",
          "text": [
            "e\n"
          ]
        }
      ]
    },
    {
      "cell_type": "code",
      "source": [
        "#Bonus : Length"
      ],
      "metadata": {
        "id": "REQvnldx2O0U"
      },
      "execution_count": null,
      "outputs": []
    },
    {
      "cell_type": "code",
      "source": [
        "# Checking the length of the Array or String - Time complexity = O(1)\n",
        "print (len(s))# check the length of string b\n",
        "print(len(A))# check the length of Array A"
      ],
      "metadata": {
        "colab": {
          "base_uri": "https://localhost:8080/"
        },
        "id": "zHYC_9JP1JwX",
        "outputId": "614c079a-5197-4741-ee6c-854e058f18fa"
      },
      "execution_count": null,
      "outputs": [
        {
          "output_type": "stream",
          "name": "stdout",
          "text": [
            "5\n",
            "6\n"
          ]
        }
      ]
    }
  ]
}